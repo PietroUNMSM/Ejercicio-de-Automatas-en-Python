{
 "cells": [
  {
   "cell_type": "markdown",
   "metadata": {},
   "source": [
    "## Ejemplo de automatas "
   ]
  },
  {
   "cell_type": "code",
   "execution_count": 1,
   "metadata": {},
   "outputs": [
    {
     "name": "stdout",
     "output_type": "stream",
     "text": [
      "Alfabeto aceptado -> ['a' o 'b'] \n",
      "\n",
      "Ingrese la cadena de entrada: aaa\n",
      "a\n",
      "Esta en el alfabeto\n",
      "Estado Actual: 1\n",
      "Estado Actual: 1\n",
      "a\n",
      "Esta en el alfabeto\n",
      "Estado Actual: 1\n",
      "Estado Actual: 1\n",
      "a\n",
      "Esta en el alfabeto\n",
      "Estado Actual: 1\n",
      "Estado Actual: 1\n",
      "---------------------------------\n",
      "\n",
      "Se acepta la cadena de entrada!!!\n",
      "\n",
      "-----Tabla de transiciones-------\n",
      "\n",
      "[0, 'a', 1]\n",
      "[1, 'a', 1]\n",
      "[1, 'a', 1]\n",
      "[1, 'a', 1]\n",
      "[1, 'a', 1]\n",
      "[1, 'a', 1]\n"
     ]
    }
   ],
   "source": [
    "#Alfabeto aceptado\n",
    "A = ['a','b']\n",
    "#Bandera por si la entrada no pertenece\n",
    "#al alfabeto de entrada\n",
    "bandera = True\n",
    "#Tabla de transición\n",
    "TablaT = [[0,'a',1],[1,'a',1],[1,'b',2]]\n",
    "#Tabla de estados de la comparación\n",
    "TablaC = []\n",
    "#Estados finales\n",
    "Estadofin = [1]\n",
    "#Estado inicial\n",
    "EstadoIn = 0\n",
    "#Estado Actual\n",
    "EA = EstadoIn\n",
    "#Cadena de entrada\n",
    "print(\"Alfabeto aceptado -> ['a' o 'b'] \")\n",
    "CE = input(\"\\nIngrese la cadena de entrada: \")\n",
    "#Recorremos la Cadena de entrada\n",
    "for c in CE:\n",
    "    print(c)\n",
    "    #Verificamos que sea del alfabeto aceptado\n",
    "    if c in A:\n",
    "        print(\"Esta en el alfabeto\")\n",
    "        #Buscamos en la tablaT\n",
    "        for f in TablaT:\n",
    "            #Recorrido de las producciones\n",
    "            #Buscamos el estado actual y el caracter de entrada\n",
    "            if c in f and EA in f:\n",
    "                #Agregamos a la tabla final\n",
    "                TablaC.append([EA,c,f[2]])\n",
    "                #print(f[2])\n",
    "                #Actualizamos el estado actual\n",
    "                EA = f[2]\n",
    "                print(\"Estado Actual: \"+str(EA))\n",
    "    else:\n",
    "        print(\"Cadena no pertenece al alfabeto\")\n",
    "        bandera = False\n",
    "#Comparamos el estado final\n",
    "#Para saber si es terminal y se acepta\n",
    "#o no la cadena de entrada.\n",
    "if EA in Estadofin and bandera == True:\n",
    "    print(\"---------------------------------\\n\")\n",
    "    print(\"Se acepta la cadena de entrada!!!\\n\")\n",
    "    print(\"-----Tabla de transiciones-------\\n\")\n",
    "    for t in TablaC:\n",
    "        print(t)\n",
    "else:\n",
    "    print(\"No se acepta la cadena de entrada!!!\\n\")\n",
    "    print(\"-----Tabla de transiciones-------\\n\")\n",
    "    for t in TablaC:\n",
    "        print(t)"
   ]
  }
 ],
 "metadata": {
  "kernelspec": {
   "display_name": "Python 3",
   "language": "python",
   "name": "python3"
  },
  "language_info": {
   "codemirror_mode": {
    "name": "ipython",
    "version": 3
   },
   "file_extension": ".py",
   "mimetype": "text/x-python",
   "name": "python",
   "nbconvert_exporter": "python",
   "pygments_lexer": "ipython3",
   "version": "3.7.6"
  }
 },
 "nbformat": 4,
 "nbformat_minor": 4
}
