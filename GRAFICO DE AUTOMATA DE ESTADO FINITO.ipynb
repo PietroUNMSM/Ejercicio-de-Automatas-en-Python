{
 "cells": [
  {
   "cell_type": "markdown",
   "metadata": {},
   "source": [
    "# GRAFICO DE AUTOMATA DE ESTADO FINITO"
   ]
  },
  {
   "cell_type": "code",
   "execution_count": 10,
   "metadata": {},
   "outputs": [
    {
     "name": "stdout",
     "output_type": "stream",
     "text": [
      "\t\tEL GRAFICO DE AUTOMATA DE ESTADO FINITO contiene: \n",
      "Inicio: ['A']\n",
      "Terminal: ['F']\n",
      "\n",
      "Se abrirá una ventana para visualizar el grafico generado\n"
     ]
    }
   ],
   "source": [
    "import graphviz as gv  #Libreria graphviz necesaria para la grafica\n",
    "\n",
    "#Funcion grafica con sus respectivas impresiones, definiciones  \n",
    "def grafica(alfabeto, estados, inicio, trans, final):\n",
    "    print(\"\\t\\tEL GRAFICO DE AUTOMATA DE ESTADO FINITO contiene: \")\n",
    "    print(\"Inicio:\", str(inicio))\n",
    "    print(\"Terminal:\", str(final))\n",
    "    print(\"\\nSe abrirá una ventana para visualizar el grafico generado\")\n",
    "    g = gv.Digraph(format='svg')\n",
    "    g.graph_attr['rankdir'] = 'LR'\n",
    "    g.node('ini', shape=\"point\") #el estado de inicio es marcado con una flecha\n",
    "    for e in estados:\n",
    "        if e in final:\n",
    "            g.node(e, shape=\"doublecircle\") #el estado terminal se representa con doble circulo\n",
    "        else:\n",
    "            g.node(e)\n",
    "        if e in inicio:\n",
    "            g.edge('ini',e)\n",
    "\n",
    "    for t in trans:\n",
    "        if t[2] not in alfabeto:\n",
    "            return 0\n",
    "        g.edge(t[0], t[1], label=str(t[2]))\n",
    "    g.render(view=True)\n",
    "\n",
    "#Definiendo los estados, transiciones, estado inicial y terminal con su alfabeto binario\n",
    "if __name__ == '__main__':\n",
    "    estados = [\"A\",\"B\",\"C\",\"E\",\"F\"]\n",
    "    trans = [(\"A\",\"B\", 1),(\"A\",\"E\",0),(\"A\",\"E\",1),(\"A\",\"A\",1),(\"A\",\"F\",1),(\"D\",\"C\",1),(\"B\",\"A\",0), (\"E\",\"C\",0), (\"A\",\"C\",0), (\"B\",\"F\", 1),(\"D\",\"F\",1),(\"D\",\"F\",1)]\n",
    "    inicial = [\"A\"]\n",
    "    alf = [0,1]\n",
    "    terminal = [\"F\"]\n",
    "\n",
    "    grafica(alf, estados, inicial, trans, terminal)"
   ]
  },
  {
   "cell_type": "code",
   "execution_count": null,
   "metadata": {},
   "outputs": [],
   "source": []
  }
 ],
 "metadata": {
  "kernelspec": {
   "display_name": "Python 3",
   "language": "python",
   "name": "python3"
  },
  "language_info": {
   "codemirror_mode": {
    "name": "ipython",
    "version": 3
   },
   "file_extension": ".py",
   "mimetype": "text/x-python",
   "name": "python",
   "nbconvert_exporter": "python",
   "pygments_lexer": "ipython3",
   "version": "3.7.6"
  }
 },
 "nbformat": 4,
 "nbformat_minor": 4
}
